{
 "metadata": {
  "name": ""
 },
 "nbformat": 3,
 "nbformat_minor": 0,
 "worksheets": [
  {
   "cells": [
    {
     "cell_type": "markdown",
     "metadata": {},
     "source": [
      "From Euclid to Hilbert\n",
      "======================\n",
      "\n",
      "Basis for grayscale images\n",
      "--------------------------\n",
      "\n",
      "The goal of this example is to illustrate the theoretical concepts studied in class (vector space, scalar product, basis and approximation) with a specific class of signals, grayscale images. Consider the following grayscale image of size 64 by 64 pixels. "
     ]
    },
    {
     "cell_type": "code",
     "collapsed": false,
     "input": [
      "from IPython.display import Image\n",
      "Image(filename='Num_Ex_3/camera_blurred_big.jpg')"
     ],
     "language": "python",
     "metadata": {},
     "outputs": [
      {
       "jpeg": "[encoded data removed]",
       "metadata": {},
       "output_type": "pyout",
       "prompt_number": 10,
       "text": [
        "<IPython.core.display.Image at 0x10613f810>"
       ]
      }
     ],
     "prompt_number": 10
    },
    {
     "cell_type": "markdown",
     "metadata": {},
     "source": [
      "It is represented by a square $64\u00d764$ matrix $I$, where each element corresponds to the intensity of a pixel. The matrix `I` is determined from the image using the `imread` function. \n"
     ]
    },
    {
     "cell_type": "code",
     "collapsed": false,
     "input": [
      "%pylab inline\n",
      "import matplotlib.pylab as plt\n",
      "I = np.array(plt.imread('Num_Ex_3/camera_blurred.jpg'), dtype=float64)"
     ],
     "language": "python",
     "metadata": {},
     "outputs": [
      {
       "output_type": "stream",
       "stream": "stdout",
       "text": [
        "Populating the interactive namespace from numpy and matplotlib\n"
       ]
      },
      {
       "output_type": "stream",
       "stream": "stderr",
       "text": [
        "WARNING: pylab import has clobbered these variables: ['size', 'plt']\n",
        "`%pylab --no-import-all` prevents importing * from pylab and numpy\n"
       ]
      }
     ],
     "prompt_number": 11
    },
    {
     "cell_type": "markdown",
     "metadata": {},
     "source": [
      "For example, the first column of this image is a $64\u00d71$ vector "
     ]
    },
    {
     "cell_type": "code",
     "collapsed": false,
     "input": [
      "I[:,0]"
     ],
     "language": "python",
     "metadata": {},
     "outputs": [
      {
       "metadata": {},
       "output_type": "pyout",
       "prompt_number": 12,
       "text": [
        "array([ 156.,  157.,  157.,  152.,  154.,  155.,  151.,  157.,  152.,\n",
        "        155.,  158.,  159.,  159.,  160.,  160.,  161.,  155.,  160.,\n",
        "        161.,  161.,  164.,  162.,  160.,  162.,  158.,  160.,  158.,\n",
        "        157.,  160.,  160.,  159.,  158.,  163.,  162.,  162.,  157.,\n",
        "        160.,  114.,  114.,  103.,   88.,   62.,  109.,   82.,  108.,\n",
        "        128.,  138.,  140.,  136.,  128.,  122.,  137.,  147.,  114.,\n",
        "        114.,  144.,  112.,  115.,  117.,  131.,  112.,  141.,   99.,   97.])"
       ]
      }
     ],
     "prompt_number": 12
    },
    {
     "cell_type": "markdown",
     "metadata": {},
     "source": [
      "Conversely, one can display the array as an image by using the `pylab.imshow` function from matplotlib"
     ]
    },
    {
     "cell_type": "code",
     "collapsed": false,
     "input": [
      "import matplotlib.pylab as plt\n",
      "plt.imshow(I, cmap=plt.cm.gray, interpolation='none')  #The cmap=plt.cm.gray renders the image in gray\n",
      "plt.show()"
     ],
     "language": "python",
     "metadata": {},
     "outputs": [
      {
       "metadata": {},
       "output_type": "display_data",
       "png": "[encoded data removed]",
       "text": [
        "<matplotlib.figure.Figure at 0x10613f390>"
       ]
      }
     ],
     "prompt_number": 13
    },
    {
     "cell_type": "markdown",
     "metadata": {},
     "source": [
      "We can define two operations on this class of signals, the addition and multiplication by a scalar. The addition of two images is defined like the standard matrix addition\n",
      "\n",
      "$$\n",
      "I1 + I2 =\n",
      "\\left( \\begin{array}{ccc} I1_{1,1} & \\dots & I1_{1,64} \\\\ \\vdots & & \\vdots \\\\ I1_{64,1} & \\dots & I1_{64,64} \\end{array} \\right) + \\left( \\begin{array}{ccc} I2_{1,1} & \\dots & I2_{1,64} \\\\ \\vdots & & \\vdots \\\\ I2_{64,1} & \\dots & I2_{64,64} \\end{array} \\right)  = \\left( \\begin{array}{ccc} I1_{1,1} +  I2_{1,1} & \\dots & I1_{1,64}  +  I2_{1,64}\\\\ \\vdots & & \\vdots \\\\ I1_{64,1} +  I2_{64,1}& \\dots & I1_{64,64} +  I2_{64,64}  \\end{array} \\right).\n",
      "$$\n",
      "\n",
      "The multiplication by a scalar is also defined like the corresponding matrix operation \n",
      "\n",
      "$$\n",
      "\\alpha I1 =\n",
      "\\alpha \\left( \\begin{array}{ccc} I1_{1,1} & \\dots & I1_{1,64} \\\\ \\vdots & & \\vdots \\\\ I1_{64,1} & \\dots & I1_{64,64} \\end{array} \\right) =\n",
      "\\left( \\begin{array}{ccc} \\alpha I1_{1,1} & \\dots &  \\alpha I1_{1,64} \\\\ \\vdots & & \\vdots \\\\ \\alpha I1_{64,1} & \\dots & \\alpha I1_{64,64} \\end{array} \\right).\n",
      "$$\n",
      "\n",
      "We can verify that the space of 64 by 64 images endowed with these two operations defines an appropriate vector space, that is that it satisfied properties (1) to (8) in slide 42. We can also endow this vector space with a scalar product defined as\n",
      "\n",
      "$\\langle I1, I2 \\rangle = \\sum_{n=1}^{64} \\sum_{m=1}^{64} I1_{n, m} I2_{n,m}.$\n",
      "\n",
      "Observe that this definition of the scalar product corresponds to the ubiquitous one in $\\mathbb{R}^{4096}$. This result is obtained by stacking the columns of the $64 \\times 64$ matrix in a   $64 * 64 = 4096 \\times 1$ vector. \n",
      "\n",
      "A natural (canonical) basis for this space is formed by the set of matrices where only one element equals to one and all the others equal 0. The following table represents these basis vectors. Of course, it is cumbersome to enumerate them all. We display the two first ones, $e_1$ and $e_2$, as well as the last one $e_{4096}$. This gives already a good idea. On each row, we represent, on the right, the basis vector and, on the left, the corresponding image. In these images, a black pixel corresponds to a value of -1, a gray one to 0 and a white one to 1."
     ]
    },
    {
     "cell_type": "markdown",
     "metadata": {},
     "source": [
      "<img src=\"https://d396qusza40orc.cloudfront.net/dsp/num_examples/Module%203/images/e1.png\" width=300>\n",
      "$e_1 = \\begin{pmatrix} 1 & \\cdots & 0 \\\\ 0 & \\cdots & 0 \\\\ \\vdots & & \\vdots \\\\ 0 & \\cdots & 0  \\end{pmatrix}$\n",
      "<br>\n",
      "\n",
      "<img src=\"https://d396qusza40orc.cloudfront.net/dsp/num_examples/Module%203/images/e2.png\" width=300>\n",
      "$e_2 = \\begin{pmatrix} 0 & \\cdots & 0 \\\\ 1 & \\cdots & 0 \\\\ \\vdots & & \\vdots \\\\ 0 & \\cdots & 0  \\end{pmatrix}$\n",
      "<br>\n",
      "\n",
      "and so on until\n",
      "\n",
      "<img src=\"https://d396qusza40orc.cloudfront.net/dsp/num_examples/Module%203/images/e4096.png\" width=300>\n",
      "$e_{4096} = \\begin{pmatrix} 0 & \\cdots & 0 \\\\ 0 & \\cdots & 0 \\\\ \\vdots & & \\vdots \\\\ 0 & \\cdots & 1  \\end{pmatrix}$\n",
      "<br>"
     ]
    },
    {
     "cell_type": "markdown",
     "metadata": {},
     "source": [
      "It looks as if all images are identical. Look more closely, you will notice that there is in each a small white pixel, on the 1st row and 1st column in the first image, for example. \n",
      "\n",
      "Suppose we would like to transmit this image over a communication channel. At the sender side, the image is projected in the canonical basis and the resulting\n",
      "coefficients are sent. This simply correspond to sending individually the intensity of each pixel. Suppose there is an error during transmission such that only the first half of the coefficients is correctly transmitted. The received images is only an approximation of the original one and the missing pixels are replaced by a 0 correspond to holes in the image (in this case the entire right half) \n"
     ]
    },
    {
     "cell_type": "markdown",
     "metadata": {},
     "source": [
      "We can compute the distance between the two images, i.e., the norm of the error."
     ]
    },
    {
     "cell_type": "code",
     "collapsed": false,
     "input": [
      "# Initialization of image\n",
      "import matplotlib.pylab as plt\n",
      "I_approx = np.array(plt.imread('Num_Ex_3/camera_blurred.jpg'), dtype=float64)\n",
      "\n",
      "I_approx[:,I_approx.shape[1]/2:] = 0\n",
      "\n",
      "plt.imshow(I_approx, cmap=plt.cm.gray, interpolation='none')\n",
      "plt.title('Approximation')\n",
      "plt.show()\n",
      "\n",
      "import math as m\n",
      "# Error calculation\n",
      "error = I - I_approx\n",
      "distance = m.sqrt(sum(sum(error*error)))\n",
      "print 'The distance between the original and approximate image is: ',distance"
     ],
     "language": "python",
     "metadata": {},
     "outputs": [
      {
       "metadata": {},
       "output_type": "display_data",
       "png": "[encoded data removed]",
       "text": [
        "<matplotlib.figure.Figure at 0x1061dca10>"
       ]
      },
      {
       "output_type": "stream",
       "stream": "stdout",
       "text": [
        "The distance between the original and approximate image is:  6586.03697226\n"
       ]
      }
     ],
     "prompt_number": 14
    },
    {
     "cell_type": "markdown",
     "metadata": {},
     "source": [
      "The question is whether we can do better by using another basis than the canonical one. The answer is yes. Consider for example the Haar basis defined by the set of matrices. The following table represents the first fours basis vectors $\\psi_1,\\ldots,\\psi_4$. Again, we display on each row, on the right, the basis vector and, on the left, the corresponding image. In each image, a black pixel corresponds to a value of $-1$, a gray one to $0$ and a white one to $1$. "
     ]
    },
    {
     "cell_type": "markdown",
     "metadata": {},
     "source": [
      "\n",
      "<img src=\"https://d396qusza40orc.cloudfront.net/dsp/num_examples/Module%203/images/psy1.png\" width=200>$\n",
      "\\psi_1 = \\begin{pmatrix} 1 & \\cdots & 1 \\\\ \\vdots & & \\vdots \\\\ 1 & \\cdots & 1 \\end{pmatrix}$\n",
      "<br>\n",
      "\n",
      "<img src=\"https://d396qusza40orc.cloudfront.net/dsp/num_examples/Module%203/images/psy2.png\" width=200>\n",
      "$\\psi_2 = \\begin{pmatrix} \n",
      "1 & \\ldots & 1 & -1 & \\cdots & -1 \\\\ \n",
      "\\vdots & & \\vdots & \\vdots & & \\vdots \\\\\n",
      "1 & \\cdots & 1 & -1 & \\cdots & -1 \n",
      "\\end{pmatrix}$\n",
      "<br>\n",
      "\n",
      "<img src=\"https://d396qusza40orc.cloudfront.net/dsp/num_examples/Module%203/images/psy3.png\" width=200>\n",
      "$\\psi_3 = \\begin{pmatrix} \n",
      "1 & \\ldots & 1 & -1 & \\cdots & -1 & 0 & \\cdots & \\cdots & 0 \\\\ \n",
      "\\vdots & & \\vdots & \\vdots & & \\vdots & \\vdots & & & \\vdots \\\\\n",
      "1 & \\cdots & 1 & -1 & \\cdots & -1 & 0 & \\cdots & \\cdots & 0 \n",
      "\\end{pmatrix}$\n",
      "<br>\n",
      "\n",
      "<img src=\"https://d396qusza40orc.cloudfront.net/dsp/num_examples/Module%203/images/psy4.png\" width=200>\n",
      "$\\psi_4 = \\begin{pmatrix} \n",
      "0& \\cdots & \\cdots & 0 & 1 & \\ldots & 1 & -1 & \\cdots & -1 \\\\ \n",
      "\\vdots & & & \\vdots & \\vdots & & \\vdots & \\vdots & & \\vdots \\\\\n",
      "0 & \\cdots & \\cdots & 0 & 1 & \\cdots & 1 & -1 & \\cdots & -1 \n",
      "\\end{pmatrix}$\n",
      "<br>\n"
     ]
    },
    {
     "cell_type": "markdown",
     "metadata": {},
     "source": [
      "We observe that Haar basis is composed of the scaled and shifted version of the same signal\n",
      "\n",
      "$\\psi(t) = \\begin{cases} 1 \\ \\rm{if  } \\; 0 \\leq t \\lt 1/2 \\\\ -1 \\ \\rm{if  } \\; 1/2 \\leq t \\leq 1 \\\\ 0 \\  \\rm{otherwise}   \\end{cases}$\n",
      "\n",
      "We can verify that this basis is indeed orthogonal by computing the scalar product between any two matrices $\\psi_i$ and $\\psi_j$, for example,\n",
      "\n",
      "        (psi_i * psi_j).sum() = 0 // when orthogonal\n",
      "\t\n",
      "As before we project the image onto this basis and send the coefficients over a communication channel that looses the second half of the coefficients. This is implemented in the following code. "
     ]
    },
    {
     "cell_type": "code",
     "collapsed": false,
     "input": [
      "def haar(N):\n",
      "    \n",
      "    #Assuming N is a power of 2\n",
      "    import numpy as np\n",
      "    import math as m\n",
      "    import scipy as sc\n",
      "    h = np.zeros((N,N), dtype = float)\n",
      "    h[0] = np.ones(N)/m.sqrt(N)\n",
      "    for k in range(1,N) :\n",
      "        \n",
      "        p = sc.fix(m.log(k)/m.log(2))\n",
      "        q = float(k - pow(2,p))\n",
      "        k1 = float(pow(2,p))\n",
      "        t1 = float(N / k1)\n",
      "        k2 = float(pow(2,p+1))\n",
      "        t2 = float(N / k2)\n",
      "        \n",
      "        for i in range(1,int(sc.fix(t2))+1):\n",
      "            h[k,i+q*t1-1] = pow(2,(p/2))/m.sqrt(N)\n",
      "            h[k,i+q*t1+t2-1] = -pow(2,(p/2))/m.sqrt(N)\n",
      "        \n",
      "    return h\n",
      "\n",
      "    \n",
      "import numpy as np \n",
      "    \n",
      "#Load image\n",
      "import matplotlib.pylab as plt\n",
      "I = plt.imread('Num_Ex_3/camera_blurred.jpg')\n",
      "size = I.shape\n",
      "\n",
      "#Arrange image in column vector\n",
      "I = I.flatten()\n",
      "#Generate Haar basis vector (rows of H)\n",
      "H = haar(4096)\n",
      "    \n",
      "#Project image on the new basis\n",
      "I_Haar = np.dot(H,I)\n",
      "    \n",
      "#Remove the second half of the coefficient\n",
      "I_Haar[2048 : 4095] = 0\n",
      "\n",
      "#Recover the image by inverting change of basis\n",
      "I_Haar = np.dot(H.T,I_Haar)\n",
      "\n",
      "#Rearrange pixels of the image\n",
      "I_Haar = I_Haar.reshape(size)"
     ],
     "language": "python",
     "metadata": {},
     "outputs": [],
     "prompt_number": 15
    },
    {
     "cell_type": "markdown",
     "metadata": {},
     "source": [
      "In this case, the image recovered at the receiver side looks like "
     ]
    },
    {
     "cell_type": "code",
     "collapsed": false,
     "input": [
      "imshow(I_Haar, cmap=plt.cm.gray)\n",
      "show()"
     ],
     "language": "python",
     "metadata": {},
     "outputs": [
      {
       "metadata": {},
       "output_type": "display_data",
       "png": "[encoded data removed]",
       "text": [
        "<matplotlib.figure.Figure at 0x1061f9f10>"
       ]
      }
     ],
     "prompt_number": 16
    },
    {
     "cell_type": "markdown",
     "metadata": {},
     "source": [
      "with a distance to the original image of "
     ]
    },
    {
     "cell_type": "code",
     "collapsed": false,
     "input": [
      "I = plt.imread('Num_Ex_3/camera_blurred.jpg')\n",
      "error_h = I - I_Haar\n",
      "import math as m\n",
      "distance = m.sqrt(sum(sum(error_h*error_h)))\n",
      "print 'The distance between the original image and the Haar approximation is ',distance\n"
     ],
     "language": "python",
     "metadata": {},
     "outputs": [
      {
       "output_type": "stream",
       "stream": "stdout",
       "text": [
        "The distance between the original image and the Haar approximation is  1319.4676957\n"
       ]
      }
     ],
     "prompt_number": 17
    },
    {
     "cell_type": "markdown",
     "metadata": {},
     "source": [
      "This happens because the Haar basis decomposes the image into a successive approximation. The first coefficients in the basis correspond to a coarse and smoothed version of the image (low frequency) whereas the subsequent coefficients represent the details in the image (high frequency). Then, in our scenario, we recover a coarser yet complete version of the image. \n",
      "\n",
      "Gram-Schmidt orthonormalization procedure\n",
      "-----------------------------------------\n",
      "    \n",
      "In the previous example, we have seen how an orthonormal basis is used to compute a successive approximation of a vector. But what happens if the set of vector spanning the space under consideration is not orthonormal? The Gram-Schmidt orthonormalization procedure enables to find the orthonormal base of this space. "
     ]
    },
    {
     "cell_type": "code",
     "collapsed": false,
     "input": [
      "def gs_orthonormalization(V) :\n",
      "    \n",
      "    #V is a matrix where each column contains \n",
      "    #the vectors spanning the space of which we want to compute the orthonormal base\n",
      "    #Will return a matrix where each column contains an ortho-normal vector of the base of the space\n",
      "    \n",
      "    numberLines = V.shape[0]\n",
      "    numberColumns = V.shape[1]\n",
      "    \n",
      "    #U is a matrix containing the orthogonal vectors (non normalized)\n",
      "    from numpy.linalg import norm\n",
      "    import numpy as np\n",
      "    U = np.zeros((numberLines,numberColumns))\n",
      "    R = np.zeros((numberLines,numberColumns))\n",
      "    \n",
      "    for indexColumn in range(0,numberColumns) :\n",
      "        U[:,indexColumn] = V[:,indexColumn]\n",
      "        \n",
      "        for index in range(0,indexColumn):\n",
      "            R[index,indexColumn] = np.dot(U[:,index],V[:,indexColumn])\n",
      "            U[:,indexColumn] = U[:,indexColumn] - R[index,indexColumn]*U[:,index]\n",
      "            \n",
      "        R[indexColumn,indexColumn] = norm(U[:,indexColumn])\n",
      "        U[:,indexColumn] = U[:,indexColumn] / float(R[indexColumn, indexColumn])\n",
      "    \n",
      "    return U"
     ],
     "language": "python",
     "metadata": {},
     "outputs": [],
     "prompt_number": 18
    },
    {
     "cell_type": "markdown",
     "metadata": {},
     "source": [
      "Let us consider a simple yet interesting example. Take the orthonormal base in $\\mathbb{R}^3$, which reads\n",
      "\n",
      "$e_x=\\begin{bmatrix} 1 \\\\ 0 \\\\ 0 \\end{bmatrix}$, \n",
      "$e_y=\\begin{bmatrix} 0 \\\\ 1 \\\\ 0 \\end{bmatrix}$, \n",
      "$e_z=\\begin{bmatrix} 0 \\\\ 0 \\\\ 1 \\end{bmatrix}$.\n",
      "\n",
      "The figure below depicts the vectors of the orthogonal basis. \n",
      "\n",
      "<img src=\"https://d396qusza40orc.cloudfront.net/dsp/num_examples/Module%203/images/baseR3.png\">\n",
      "\n",
      "The following rotation matrices\n",
      "\n",
      "$$\n",
      "R_x(\\theta) = \\begin{bmatrix}\n",
      "1 & 0 & 0 \\\\ 0 & \\cos\\theta & -\\sin\\theta \\\\ 0 & \\sin\\theta & \\cos\\theta\n",
      "\\end{bmatrix}\n",
      "$$\n",
      "\n",
      "$$\n",
      "R_y(\\alpha) = \\begin{bmatrix}\n",
      "\\cos\\alpha & 0 & \\sin\\alpha \\\\ 0 & 1 & 0 \\\\ -\\sin\\alpha & 0 & \\cos\\alpha\n",
      "\\end{bmatrix}\n",
      "$$\n",
      "\n",
      "$$\n",
      "R_z(\\beta) = \\begin{bmatrix}\n",
      "\\cos\\beta & -\\sin\\beta & 0 \\\\ \\sin\\beta & \\cos\\beta & 0 \\\\ 0 & 0 & 1\n",
      "\\end{bmatrix}\n",
      "$$\n",
      "\n",
      "perform a counter-clock wise rotation of an angle $\\theta$,\n",
      "$\\alpha$, and $\\beta$ with respect to the axis $x$, $y$, and\n",
      "$z$, respectively.\n",
      "\n",
      "Let's rotate the $e_x$ w.r.t. the $z$ axis, $e_y$ w.r.t. the\n",
      "$x$ axis, and $e_z$ w.r.t. the $y$ axis, with\n",
      "$\\theta=\\pi/3$, $\\alpha=\\pi/4$, and $\\beta=\\pi/6$ <br><br>\n",
      "$v_1=R_z(\\beta) e_x=\\begin{bmatrix} 0.8660 \\\\ 0.5000 \\\\ 0\n",
      "\\end{bmatrix}$\n",
      "\n",
      "$v_2=R_x(\\theta) e_y=\\begin{bmatrix}  0 \\\\\n",
      "0.5000 \\\\ 0.8660  \\end{bmatrix}$\n",
      "\n",
      "$v_3=R_y(\\alpha) \n",
      "e_z=\\begin{bmatrix}  0.7071 \\\\ 0 \\\\ 0.7071 \\end{bmatrix}$\n",
      "\n",
      "<img src=\"https://d396qusza40orc.cloudfront.net/dsp/num_examples/Module%203/images/rotatedVectors.png\"><br>\n",
      "\n",
      "The so obtained three vectors, depicted in the figure above, do not form an orthogonal basis\n",
      "anymore. For instance $<v_1,v_2>=0.25$.\n",
      "\n",
      "We can use the Gram-Schmidt procedure to re-obtain an orthonormal\n",
      "basis. By feeding the procedure with the matrix composed of the three\n",
      "vectors $v_1$, $v_2$, and $v_3$ we obtain\n",
      "\n",
      "$E = \\begin{bmatrix} 0.866 & -0.2236 & 0.4472 \\\\ 0.5 & 0.3873 & -0.7746 \\\\ 0 & 0.8944 & 0.4472 \\end{bmatrix}.$\n",
      "\n",
      "The figure below presents the new orthogonal vectors.\n",
      "\n",
      "<img src=\"https://d396qusza40orc.cloudfront.net/dsp/num_examples/Module%203/images/baseRotatedVectors.png\">\n",
      "\n",
      "One can easily check that the colums of the matrix $E$ form an orthonormal basis, i.e.\n",
      "\n",
      "$E^T \\, E = \\begin{bmatrix} 1 & 0 & 0 \\\\ 0 & 1 & 0 \\\\ 0 & 0 & 1 \\end{bmatrix}.$"
     ]
    },
    {
     "cell_type": "markdown",
     "metadata": {},
     "source": [
      "Exercises\n",
      "---------\n",
      "\n",
      "Consider the three vectors\n",
      "\n",
      "$ v_1=\\begin{bmatrix} 0.8660 \\\\ 0.5000 \\\\ 0 \\end{bmatrix}$\n",
      "\n",
      "$v_2=\\begin{bmatrix} 0 \\\\ 0.5000 \\\\ 0.8660 \\end{bmatrix}$\n",
      "\n",
      "\n",
      "$v_3=\\begin{bmatrix} 1.7320 \\\\ 3.0000 \\\\ 3.4640 \\end{bmatrix}$\n",
      "\n",
      "Apply the Gram-Schmidt process on such vectors and provide the\n",
      "output matrix $E$.\n",
      "\n",
      "Does the output matrix $E$ represent a set of orthonormal vectors?\n",
      "\n",
      "If yes, why?\n",
      "\n",
      "    1. dot(E.T, E) == I\n",
      "    2. det(E) == 0\n",
      "    3. rank(E) == 3\n",
      "\n",
      "If not, why?\n",
      "\n",
      "    1. dot(E.T, E) is not the identity matrix\n",
      "    2. det(E) > 0\n",
      "    3. rank(E)> 1\n"
     ]
    }
   ],
   "metadata": {}
  }
 ]
}